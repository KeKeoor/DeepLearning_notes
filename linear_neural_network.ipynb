{
 "cells": [
  {
   "cell_type": "markdown",
   "source": [
    "*2024/10/29*\n",
    "***\n",
    "# 线性神经网络\n",
    "## 线性回归\n",
    "1. 线性模型\n",
    "\n",
    "线性模型中，假设输入包含d个特征，预测结果$\\hat{y}$表示为\n",
    "$$\\hat{y} = w_1x_1 + \\cdot\\cdot\\cdot + w_dx_d + b$$\n",
    "将所有特征放到向量$\\bold{x}\\in\\Bbb{R}^d$中，将所有权重放到向量$\\bold{w}\\in\\Bbb{R}^d$中，使用点积的形式表示模型：\n",
    "$$\\hat{y} = \\bold{w}^{\\rm{T}}\\bold{x} + b$$\n",
    "向量$\\bold{x}$是单个数据样本的特征，使用矩阵$\\bold{X}\\in\\Bbb{R}^{n\\times{d}}$来表示数据集的$n$个样本。其中，$\\bold{X}$的行代表样本，列代表特征。\n",
    "因此，预测值$\\bold{\\hat{y}}\\in\\Bbb{R}^d$可以表示为：\n",
    "$$\\bold{\\hat{y}} = \\bold{X}\\bold{w} + b$$\n",
    "训练的过程就是寻找一组权重向量$\\bold{w}$和偏置$b$，使得预测值和真实值之间的误差尽可能小。\n",
    "\n",
    "2. 损失函数\n",
    "\n",
    "损失函数（loss function）用来量化预测值和真实值之间的差距。一般选用非负数作为损失，且数值越小表示损失越小。回归中，最常用的损失函数是均方误差（mean squared error, MSE）：\n",
    "$$l^{(i)}(\\bold{w}, b) = \\frac{1}{2}(\\hat{y}^{(i)} - y^{(i)})^2$$\n",
    "$$L(\\bold{w}, b) = \\frac{1}{n}\\sum_{i=1}^{n}l^{(i)}(\\bold{w}, b) = \\frac{1}{n}\\sum_{i=1}^{n}{\\frac{1}{2}}(\\bold{w}^{\\rm{T}}\\bold{x}^{(i)} + b - y^{(i)})^2$$\n",
    "\n",
    "3. 解析解\n",
    "\n",
    "线性回归问题比较简单，存在解析解，但无法广泛地应用在深度学习中。\n",
    "\n",
    "4. 随机梯度下降\n",
    "\n",
    "梯度下降（gradient descent）通过不断再损失函数递减的方向上更新参数来降低误差。因为要遍历整个数据集，执行可能很慢，因此通常在每次需要计算更新的适合随机抽取一小批样本，称之为小批量随机梯度下降（mini-batch stochastic gradient descent）。\n",
    "$$(\\bold{w}, b) \\gets (\\bold{w}, b) - \\frac{\\eta}{|B|}{\\partial_{(\\bold{w}, b)}{l^{(i)}}}(\\bold{w}, b)$$\n",
    "$|B|$表示每个小批量中的样本数，$\\eta$表示学习率（learning rate）。它们的值通常是预先手动指定，而不是训练得到的，称之为超参数（hyperparameter）。\n",
    "泛化误差（generalization error）是模型在新样本上表现的好坏，而不是在训练集上的表现。为了降低泛化误差，我们通常会在训练集上训练模型，然后在测试集上评估模型的性能。\n",
    "\n",
    "5. 向量化\n",
    "\n",
    "在深度学习中，我们通常使用向量化来减少计算时间，而不是使用for循环。\n",
    "\n",
    "6.\n"
   ],
   "metadata": {
    "collapsed": false,
    "pycharm": {
     "name": "#%% md\n"
    }
   }
  },
  {
   "cell_type": "code",
   "execution_count": null,
   "outputs": [],
   "source": [],
   "metadata": {
    "collapsed": false,
    "pycharm": {
     "name": "#%%\n"
    }
   }
  },
  {
   "cell_type": "code",
   "execution_count": null,
   "outputs": [],
   "source": [],
   "metadata": {
    "collapsed": false,
    "pycharm": {
     "name": "#%%\n"
    }
   }
  }
 ],
 "metadata": {
  "kernelspec": {
   "name": "cxm_pytorch",
   "language": "python",
   "display_name": "CXM_pytorch"
  },
  "language_info": {
   "codemirror_mode": {
    "name": "ipython",
    "version": 2
   },
   "file_extension": ".py",
   "mimetype": "text/x-python",
   "name": "python",
   "nbconvert_exporter": "python",
   "pygments_lexer": "ipython2",
   "version": "2.7.6"
  }
 },
 "nbformat": 4,
 "nbformat_minor": 0
}